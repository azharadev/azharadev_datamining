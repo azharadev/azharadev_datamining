{
 "cells": [
  {
   "cell_type": "code",
   "execution_count": 22,
   "id": "emotional-synthesis",
   "metadata": {},
   "outputs": [],
   "source": [
    "import numpy as np\n",
    "import matplotlib.pyplot as plt\n",
    "import pandas as pd"
   ]
  },
  {
   "cell_type": "code",
   "execution_count": 23,
   "id": "female-cleaning",
   "metadata": {},
   "outputs": [],
   "source": [
    "#data set\n",
    "dataset = pd.read_csv('Data.csv')\n",
    "X = dataset.iloc[:, :-1].values\n",
    "y = dataset.iloc[:, -1].values"
   ]
  },
  {
   "cell_type": "code",
   "execution_count": 24,
   "id": "measured-garbage",
   "metadata": {},
   "outputs": [],
   "source": [
    "from sklearn.model_selection import train_test_split\n",
    "X_train, X_test, y_train, y_test = train_test_split(X, y, test_size = 0.2, random_state = 0)"
   ]
  },
  {
   "cell_type": "code",
   "execution_count": 25,
   "id": "quick-appliance",
   "metadata": {},
   "outputs": [
    {
     "name": "stdout",
     "output_type": "stream",
     "text": [
      "[[1 'France' 44.0 72000.0]\n",
      " [2 'Spain' 27.0 48000.0]\n",
      " [3 'Germany' 30.0 54000.0]\n",
      " [4 'Spain' 38.0 61000.0]\n",
      " [5 'Germany' 40.0 nan]\n",
      " [6 'France' 35.0 58000.0]\n",
      " [7 'Spain' nan 52000.0]\n",
      " [8 'France' 48.0 79000.0]\n",
      " [9 'Germany' 50.0 83000.0]\n",
      " [10 'France' 37.0 67000.0]]\n"
     ]
    }
   ],
   "source": [
    "print(X)"
   ]
  },
  {
   "cell_type": "code",
   "execution_count": 26,
   "id": "constitutional-mirror",
   "metadata": {},
   "outputs": [
    {
     "name": "stdout",
     "output_type": "stream",
     "text": [
      "['No' 'Yes' 'No' 'No' 'Yes' 'Yes' 'No' 'Yes' 'No' 'Yes']\n"
     ]
    }
   ],
   "source": [
    "print(y)"
   ]
  },
  {
   "cell_type": "code",
   "execution_count": 27,
   "id": "norman-window",
   "metadata": {},
   "outputs": [],
   "source": [
    "from sklearn.impute import SimpleImputer\n",
    "imputer = SimpleImputer(missing_values=np.nan, strategy='mean')\n",
    "imputer.fit(X[:, 3:5])\n",
    "X[:, 3:5] = imputer.transform(X[:, 3:5])"
   ]
  },
  {
   "cell_type": "code",
   "execution_count": 28,
   "id": "english-worse",
   "metadata": {},
   "outputs": [
    {
     "name": "stdout",
     "output_type": "stream",
     "text": [
      "[[1 'France' 44.0 72000.0]\n",
      " [2 'Spain' 27.0 48000.0]\n",
      " [3 'Germany' 30.0 54000.0]\n",
      " [4 'Spain' 38.0 61000.0]\n",
      " [5 'Germany' 40.0 63777.77777777778]\n",
      " [6 'France' 35.0 58000.0]\n",
      " [7 'Spain' nan 52000.0]\n",
      " [8 'France' 48.0 79000.0]\n",
      " [9 'Germany' 50.0 83000.0]\n",
      " [10 'France' 37.0 67000.0]]\n"
     ]
    }
   ],
   "source": [
    "print(X)"
   ]
  },
  {
   "cell_type": "code",
   "execution_count": 29,
   "id": "colored-reservoir",
   "metadata": {},
   "outputs": [],
   "source": [
    "from sklearn.impute import SimpleImputer\n",
    "imputer = SimpleImputer(missing_values=np.nan, strategy='mean')\n",
    "imputer.fit(X[:, 2:7])\n",
    "X[:, 2:7] = imputer.transform(X[:, 2:7])"
   ]
  },
  {
   "cell_type": "code",
   "execution_count": 30,
   "id": "artificial-productivity",
   "metadata": {},
   "outputs": [
    {
     "name": "stdout",
     "output_type": "stream",
     "text": [
      "[[1 'France' 44.0 72000.0]\n",
      " [2 'Spain' 27.0 48000.0]\n",
      " [3 'Germany' 30.0 54000.0]\n",
      " [4 'Spain' 38.0 61000.0]\n",
      " [5 'Germany' 40.0 63777.77777777778]\n",
      " [6 'France' 35.0 58000.0]\n",
      " [7 'Spain' 38.77777777777778 52000.0]\n",
      " [8 'France' 48.0 79000.0]\n",
      " [9 'Germany' 50.0 83000.0]\n",
      " [10 'France' 37.0 67000.0]]\n"
     ]
    }
   ],
   "source": [
    "print(X)"
   ]
  },
  {
   "cell_type": "code",
   "execution_count": 31,
   "id": "latter-donna",
   "metadata": {},
   "outputs": [],
   "source": [
    "from sklearn.compose import ColumnTransformer\n",
    "from sklearn.preprocessing import OneHotEncoder\n",
    "ct = ColumnTransformer(transformers=[('encoder', OneHotEncoder(), [0])], remainder='passthrough')\n",
    "X = np.array(ct.fit_transform(X))"
   ]
  },
  {
   "cell_type": "code",
   "execution_count": 32,
   "id": "cutting-reproduction",
   "metadata": {},
   "outputs": [
    {
     "name": "stdout",
     "output_type": "stream",
     "text": [
      "[[1.0 0.0 0.0 0.0 0.0 0.0 0.0 0.0 0.0 0.0 'France' 44.0 72000.0]\n",
      " [0.0 1.0 0.0 0.0 0.0 0.0 0.0 0.0 0.0 0.0 'Spain' 27.0 48000.0]\n",
      " [0.0 0.0 1.0 0.0 0.0 0.0 0.0 0.0 0.0 0.0 'Germany' 30.0 54000.0]\n",
      " [0.0 0.0 0.0 1.0 0.0 0.0 0.0 0.0 0.0 0.0 'Spain' 38.0 61000.0]\n",
      " [0.0 0.0 0.0 0.0 1.0 0.0 0.0 0.0 0.0 0.0 'Germany' 40.0\n",
      "  63777.77777777778]\n",
      " [0.0 0.0 0.0 0.0 0.0 1.0 0.0 0.0 0.0 0.0 'France' 35.0 58000.0]\n",
      " [0.0 0.0 0.0 0.0 0.0 0.0 1.0 0.0 0.0 0.0 'Spain' 38.77777777777778\n",
      "  52000.0]\n",
      " [0.0 0.0 0.0 0.0 0.0 0.0 0.0 1.0 0.0 0.0 'France' 48.0 79000.0]\n",
      " [0.0 0.0 0.0 0.0 0.0 0.0 0.0 0.0 1.0 0.0 'Germany' 50.0 83000.0]\n",
      " [0.0 0.0 0.0 0.0 0.0 0.0 0.0 0.0 0.0 1.0 'France' 37.0 67000.0]]\n"
     ]
    }
   ],
   "source": [
    "print(X)"
   ]
  },
  {
   "cell_type": "code",
   "execution_count": 33,
   "id": "alpha-finnish",
   "metadata": {},
   "outputs": [],
   "source": [
    "from sklearn.preprocessing import LabelEncoder\n",
    "le = LabelEncoder()\n",
    "y = le.fit_transform(y)"
   ]
  },
  {
   "cell_type": "code",
   "execution_count": 34,
   "id": "amended-bible",
   "metadata": {},
   "outputs": [
    {
     "name": "stdout",
     "output_type": "stream",
     "text": [
      "[0 1 0 0 1 1 0 1 0 1]\n"
     ]
    }
   ],
   "source": [
    "print(y)"
   ]
  },
  {
   "cell_type": "code",
   "execution_count": 35,
   "id": "numerous-algeria",
   "metadata": {},
   "outputs": [],
   "source": [
    "from sklearn.model_selection import train_test_split\n",
    "X_train, X_test, y_train, y_test = train_test_split(X, y, test_size = 0.2, random_state = 1)"
   ]
  },
  {
   "cell_type": "code",
   "execution_count": 36,
   "id": "attached-breathing",
   "metadata": {},
   "outputs": [
    {
     "name": "stdout",
     "output_type": "stream",
     "text": [
      "[[0.0 0.0 0.0 0.0 0.0 0.0 1.0 0.0 0.0 0.0 'Spain' 38.77777777777778\n",
      "  52000.0]\n",
      " [0.0 0.0 0.0 0.0 1.0 0.0 0.0 0.0 0.0 0.0 'Germany' 40.0\n",
      "  63777.77777777778]\n",
      " [1.0 0.0 0.0 0.0 0.0 0.0 0.0 0.0 0.0 0.0 'France' 44.0 72000.0]\n",
      " [0.0 0.0 0.0 1.0 0.0 0.0 0.0 0.0 0.0 0.0 'Spain' 38.0 61000.0]\n",
      " [0.0 1.0 0.0 0.0 0.0 0.0 0.0 0.0 0.0 0.0 'Spain' 27.0 48000.0]\n",
      " [0.0 0.0 0.0 0.0 0.0 0.0 0.0 1.0 0.0 0.0 'France' 48.0 79000.0]\n",
      " [0.0 0.0 0.0 0.0 0.0 0.0 0.0 0.0 1.0 0.0 'Germany' 50.0 83000.0]\n",
      " [0.0 0.0 0.0 0.0 0.0 1.0 0.0 0.0 0.0 0.0 'France' 35.0 58000.0]]\n"
     ]
    }
   ],
   "source": [
    "print(X_train)"
   ]
  },
  {
   "cell_type": "code",
   "execution_count": 37,
   "id": "brief-spread",
   "metadata": {},
   "outputs": [
    {
     "name": "stdout",
     "output_type": "stream",
     "text": [
      "[[0.0 0.0 1.0 0.0 0.0 0.0 0.0 0.0 0.0 0.0 'Germany' 30.0 54000.0]\n",
      " [0.0 0.0 0.0 0.0 0.0 0.0 0.0 0.0 0.0 1.0 'France' 37.0 67000.0]]\n"
     ]
    }
   ],
   "source": [
    "print(X_test)"
   ]
  },
  {
   "cell_type": "code",
   "execution_count": 38,
   "id": "imported-center",
   "metadata": {},
   "outputs": [
    {
     "name": "stdout",
     "output_type": "stream",
     "text": [
      "[0 1 0 0 1 1 0 1]\n"
     ]
    }
   ],
   "source": [
    "print(y_train)"
   ]
  },
  {
   "cell_type": "code",
   "execution_count": 39,
   "id": "ready-inspector",
   "metadata": {},
   "outputs": [
    {
     "name": "stdout",
     "output_type": "stream",
     "text": [
      "[0 1]\n"
     ]
    }
   ],
   "source": [
    "print(y_test)"
   ]
  },
  {
   "cell_type": "code",
   "execution_count": 41,
   "id": "sustainable-melbourne",
   "metadata": {},
   "outputs": [],
   "source": [
    "from sklearn.preprocessing import StandardScaler\n",
    "sc = StandardScaler()\n",
    "X_train[:, 3:5] = sc.fit_transform(X_train[:, 3:5])\n",
    "X_test[:, 3:5] = sc.transform(X_test[:, 3:5])"
   ]
  },
  {
   "cell_type": "code",
   "execution_count": 42,
   "id": "committed-swing",
   "metadata": {},
   "outputs": [
    {
     "name": "stdout",
     "output_type": "stream",
     "text": [
      "[[0.0 0.0 0.0 -0.3779644730092272 -0.3779644730092272 0.0 1.0 0.0 0.0 0.0\n",
      "  'Spain' 38.77777777777778 52000.0]\n",
      " [0.0 0.0 0.0 -0.3779644730092272 2.6457513110645903 0.0 0.0 0.0 0.0 0.0\n",
      "  'Germany' 40.0 63777.77777777778]\n",
      " [1.0 0.0 0.0 -0.3779644730092272 -0.3779644730092272 0.0 0.0 0.0 0.0 0.0\n",
      "  'France' 44.0 72000.0]\n",
      " [0.0 0.0 0.0 2.6457513110645903 -0.3779644730092272 0.0 0.0 0.0 0.0 0.0\n",
      "  'Spain' 38.0 61000.0]\n",
      " [0.0 1.0 0.0 -0.3779644730092272 -0.3779644730092272 0.0 0.0 0.0 0.0 0.0\n",
      "  'Spain' 27.0 48000.0]\n",
      " [0.0 0.0 0.0 -0.3779644730092272 -0.3779644730092272 0.0 0.0 1.0 0.0 0.0\n",
      "  'France' 48.0 79000.0]\n",
      " [0.0 0.0 0.0 -0.3779644730092272 -0.3779644730092272 0.0 0.0 0.0 1.0 0.0\n",
      "  'Germany' 50.0 83000.0]\n",
      " [0.0 0.0 0.0 -0.3779644730092272 -0.3779644730092272 1.0 0.0 0.0 0.0 0.0\n",
      "  'France' 35.0 58000.0]]\n"
     ]
    }
   ],
   "source": [
    "print(X_train)"
   ]
  },
  {
   "cell_type": "code",
   "execution_count": 43,
   "id": "differential-joyce",
   "metadata": {},
   "outputs": [
    {
     "name": "stdout",
     "output_type": "stream",
     "text": [
      "[[0.0 0.0 1.0 -0.3779644730092272 -0.3779644730092272 0.0 0.0 0.0 0.0 0.0\n",
      "  'Germany' 30.0 54000.0]\n",
      " [0.0 0.0 0.0 -0.3779644730092272 -0.3779644730092272 0.0 0.0 0.0 0.0 1.0\n",
      "  'France' 37.0 67000.0]]\n"
     ]
    }
   ],
   "source": [
    "print(X_test)"
   ]
  },
  {
   "cell_type": "code",
   "execution_count": 44,
   "id": "complicated-oxide",
   "metadata": {},
   "outputs": [],
   "source": [
    "from sklearn.preprocessing import StandardScaler\n",
    "sc = StandardScaler()\n",
    "X_train[:, 2:7] = sc.fit_transform(X_train[:, 2:7])\n",
    "X_test[:, 2:7] = sc.transform(X_test[:, 2:7])"
   ]
  },
  {
   "cell_type": "code",
   "execution_count": 45,
   "id": "metropolitan-aaron",
   "metadata": {},
   "outputs": [
    {
     "name": "stdout",
     "output_type": "stream",
     "text": [
      "[[0.0 0.0 0.0 -0.3779644730092272 -0.37796447300922725\n",
      "  -0.3779644730092272 2.6457513110645903 0.0 0.0 0.0 'Spain'\n",
      "  38.77777777777778 52000.0]\n",
      " [0.0 0.0 0.0 -0.3779644730092272 2.645751311064591 -0.3779644730092272\n",
      "  -0.3779644730092272 0.0 0.0 0.0 'Germany' 40.0 63777.77777777778]\n",
      " [1.0 0.0 0.0 -0.3779644730092272 -0.37796447300922725\n",
      "  -0.3779644730092272 -0.3779644730092272 0.0 0.0 0.0 'France' 44.0\n",
      "  72000.0]\n",
      " [0.0 0.0 0.0 2.6457513110645903 -0.37796447300922725 -0.3779644730092272\n",
      "  -0.3779644730092272 0.0 0.0 0.0 'Spain' 38.0 61000.0]\n",
      " [0.0 1.0 0.0 -0.3779644730092272 -0.37796447300922725\n",
      "  -0.3779644730092272 -0.3779644730092272 0.0 0.0 0.0 'Spain' 27.0\n",
      "  48000.0]\n",
      " [0.0 0.0 0.0 -0.3779644730092272 -0.37796447300922725\n",
      "  -0.3779644730092272 -0.3779644730092272 1.0 0.0 0.0 'France' 48.0\n",
      "  79000.0]\n",
      " [0.0 0.0 0.0 -0.3779644730092272 -0.37796447300922725\n",
      "  -0.3779644730092272 -0.3779644730092272 0.0 1.0 0.0 'Germany' 50.0\n",
      "  83000.0]\n",
      " [0.0 0.0 0.0 -0.3779644730092272 -0.37796447300922725 2.6457513110645903\n",
      "  -0.3779644730092272 0.0 0.0 0.0 'France' 35.0 58000.0]]\n"
     ]
    }
   ],
   "source": [
    "print(X_train)"
   ]
  },
  {
   "cell_type": "code",
   "execution_count": 49,
   "id": "fiscal-incidence",
   "metadata": {},
   "outputs": [
    {
     "name": "stdout",
     "output_type": "stream",
     "text": [
      "[[0.0 0.0 1.0 -0.3779644730092272 -0.37796447300922725\n",
      "  -0.3779644730092272 -0.3779644730092272 0.0 0.0 0.0 'Germany' 30.0\n",
      "  54000.0]\n",
      " [0.0 0.0 0.0 -0.3779644730092272 -0.37796447300922725\n",
      "  -0.3779644730092272 -0.3779644730092272 0.0 0.0 1.0 'France' 37.0\n",
      "  67000.0]]\n"
     ]
    }
   ],
   "source": [
    "print(X_test)"
   ]
  }
 ],
 "metadata": {
  "kernelspec": {
   "display_name": "Python 3",
   "language": "python",
   "name": "python3"
  },
  "language_info": {
   "codemirror_mode": {
    "name": "ipython",
    "version": 3
   },
   "file_extension": ".py",
   "mimetype": "text/x-python",
   "name": "python",
   "nbconvert_exporter": "python",
   "pygments_lexer": "ipython3",
   "version": "3.9.2"
  }
 },
 "nbformat": 4,
 "nbformat_minor": 5
}
